{
  "nbformat": 4,
  "nbformat_minor": 0,
  "metadata": {
    "colab": {
      "provenance": [],
      "authorship_tag": "ABX9TyNgxnzv8VX3X6Yb3ZjAaJSe",
      "include_colab_link": true
    },
    "kernelspec": {
      "name": "python3",
      "display_name": "Python 3"
    },
    "language_info": {
      "name": "python"
    }
  },
  "cells": [
    {
      "cell_type": "markdown",
      "metadata": {
        "id": "view-in-github",
        "colab_type": "text"
      },
      "source": [
        "<a href=\"https://colab.research.google.com/github/NiyatiBhasin/REINFORCE/blob/main/Python%20practise%20ques.ipynb\" target=\"_parent\"><img src=\"https://colab.research.google.com/assets/colab-badge.svg\" alt=\"Open In Colab\"/></a>"
      ]
    },
    {
      "cell_type": "code",
      "execution_count": 1,
      "metadata": {
        "id": "aLrXKZR1BIw7",
        "outputId": "4ff05db6-ed47-424a-dd4b-ee50bd1bb26f",
        "colab": {
          "base_uri": "https://localhost:8080/"
        }
      },
      "outputs": [
        {
          "output_type": "stream",
          "name": "stdout",
          "text": [
            "  school sex  age address famsize Pstatus  Medu  Fedu     Mjob      Fjob  ...  \\\n",
            "0     GP   F   18       U     GT3       A     4     4  at_home   teacher  ...   \n",
            "1     GP   F   17       U     GT3       T     1     1  at_home     other  ...   \n",
            "2     GP   F   15       U     LE3       T     1     1  at_home     other  ...   \n",
            "3     GP   F   15       U     GT3       T     4     2   health  services  ...   \n",
            "4     GP   F   16       U     GT3       T     3     3    other     other  ...   \n",
            "\n",
            "  famrel freetime  goout  Dalc  Walc health absences  G1  G2  G3  \n",
            "0      4        3      4     1     1      3        6   5   6   6  \n",
            "1      5        3      3     1     1      3        4   5   5   6  \n",
            "2      4        3      2     2     3      3       10   7   8  10  \n",
            "3      3        2      2     1     1      5        2  15  14  15  \n",
            "4      4        3      2     1     2      5        4   6  10  10  \n",
            "\n",
            "[5 rows x 33 columns]\n"
          ]
        }
      ],
      "source": [
        "import pandas as pd\n",
        "file_path = '/content/student-mat.csv'\n",
        "df = pd.read_csv(file_path)\n",
        "print(df.head())\n"
      ]
    },
    {
      "cell_type": "code",
      "source": [
        "df_missed_10plus_classes = df[df['absences'] >= 10]\n",
        "\n",
        "\n",
        "total_students_missed_10plus_classes = len(df_missed_10plus_classes)\n",
        "\n",
        "\n",
        "students_obtained_80plus_missed_10plus = df_missed_10plus_classes[df_missed_10plus_classes['G1'] >= 80]\n",
        "num_students_obtained_80plus_missed_10plus = len(students_obtained_80plus_missed_10plus)\n",
        "\n",
        "prob_80_or_more_given_miss_10plus_classes = num_students_obtained_80plus_missed_10plus / total_students_missed_10plus_classes\n",
        "\n",
        "print(f\"Probability of obtaining 80% or more in math, given missing at least 10 classes: {prob_80_or_more_given_miss_10plus_classes:.2f}\")"
      ],
      "metadata": {
        "id": "uw_Z82LmEV7m",
        "outputId": "59503859-1f23-40f5-b67c-2fe17d8f5359",
        "colab": {
          "base_uri": "https://localhost:8080/"
        }
      },
      "execution_count": 2,
      "outputs": [
        {
          "output_type": "stream",
          "name": "stdout",
          "text": [
            "Probability of obtaining 80% or more in math, given missing at least 10 classes: 0.00\n"
          ]
        }
      ]
    },
    {
      "cell_type": "code",
      "source": [
        "print(df_missed_10plus_classes)\n",
        "\n",
        "total_students_missed_10plus_classes = len(df_missed_10plus_classes)\n",
        "\n",
        "total_students_missed_80plus_marks = df[df['G1'] >= 80]\n",
        "print(df_missed_10plus_classes)\n",
        "print(total_students_missed_80plus_marks )"
      ],
      "metadata": {
        "id": "b-bqyeSIExwW",
        "outputId": "e2f51a66-aa47-4585-ebd8-5df82f8992d7",
        "colab": {
          "base_uri": "https://localhost:8080/"
        }
      },
      "execution_count": 5,
      "outputs": [
        {
          "output_type": "stream",
          "name": "stdout",
          "text": [
            "    school sex  age address famsize Pstatus  Medu  Fedu      Mjob      Fjob  \\\n",
            "2       GP   F   15       U     LE3       T     1     1   at_home     other   \n",
            "5       GP   M   16       U     LE3       T     4     3  services     other   \n",
            "18      GP   M   17       U     GT3       T     3     2  services  services   \n",
            "25      GP   F   16       U     GT3       T     2     2  services  services   \n",
            "29      GP   M   16       U     GT3       T     4     4   teacher   teacher   \n",
            "..     ...  ..  ...     ...     ...     ...   ...   ...       ...       ...   \n",
            "369     MS   F   18       R     GT3       T     4     4     other   teacher   \n",
            "373     MS   F   17       R     GT3       T     1     2     other     other   \n",
            "379     MS   F   17       R     GT3       T     3     1   at_home     other   \n",
            "384     MS   M   18       R     GT3       T     4     2     other     other   \n",
            "390     MS   M   20       U     LE3       A     2     2  services  services   \n",
            "\n",
            "     ... famrel freetime  goout  Dalc  Walc health absences  G1  G2  G3  \n",
            "2    ...      4        3      2     2     3      3       10   7   8  10  \n",
            "5    ...      5        4      2     1     2      5       10  15  15  15  \n",
            "18   ...      5        5      5     2     4      5       16   6   5   5  \n",
            "25   ...      1        2      2     1     3      5       14   6   9   8  \n",
            "29   ...      4        4      5     5     5      5       16  10  12  11  \n",
            "..   ...    ...      ...    ...   ...   ...    ...      ...  ..  ..  ..  \n",
            "369  ...      3        2      2     4     2      5       10  14  12  11  \n",
            "373  ...      3        5      5     1     3      1       14   6   5   5  \n",
            "379  ...      4        5      4     2     3      1       17  10  10  10  \n",
            "384  ...      5        4      3     4     3      3       14   6   5   5  \n",
            "390  ...      5        5      4     4     5      4       11   9   9   9  \n",
            "\n",
            "[83 rows x 33 columns]\n",
            "    school sex  age address famsize Pstatus  Medu  Fedu      Mjob      Fjob  \\\n",
            "2       GP   F   15       U     LE3       T     1     1   at_home     other   \n",
            "5       GP   M   16       U     LE3       T     4     3  services     other   \n",
            "18      GP   M   17       U     GT3       T     3     2  services  services   \n",
            "25      GP   F   16       U     GT3       T     2     2  services  services   \n",
            "29      GP   M   16       U     GT3       T     4     4   teacher   teacher   \n",
            "..     ...  ..  ...     ...     ...     ...   ...   ...       ...       ...   \n",
            "369     MS   F   18       R     GT3       T     4     4     other   teacher   \n",
            "373     MS   F   17       R     GT3       T     1     2     other     other   \n",
            "379     MS   F   17       R     GT3       T     3     1   at_home     other   \n",
            "384     MS   M   18       R     GT3       T     4     2     other     other   \n",
            "390     MS   M   20       U     LE3       A     2     2  services  services   \n",
            "\n",
            "     ... famrel freetime  goout  Dalc  Walc health absences  G1  G2  G3  \n",
            "2    ...      4        3      2     2     3      3       10   7   8  10  \n",
            "5    ...      5        4      2     1     2      5       10  15  15  15  \n",
            "18   ...      5        5      5     2     4      5       16   6   5   5  \n",
            "25   ...      1        2      2     1     3      5       14   6   9   8  \n",
            "29   ...      4        4      5     5     5      5       16  10  12  11  \n",
            "..   ...    ...      ...    ...   ...   ...    ...      ...  ..  ..  ..  \n",
            "369  ...      3        2      2     4     2      5       10  14  12  11  \n",
            "373  ...      3        5      5     1     3      1       14   6   5   5  \n",
            "379  ...      4        5      4     2     3      1       17  10  10  10  \n",
            "384  ...      5        4      3     4     3      3       14   6   5   5  \n",
            "390  ...      5        5      4     4     5      4       11   9   9   9  \n",
            "\n",
            "[83 rows x 33 columns]\n",
            "Empty DataFrame\n",
            "Columns: [school, sex, age, address, famsize, Pstatus, Medu, Fedu, Mjob, Fjob, reason, guardian, traveltime, studytime, failures, schoolsup, famsup, paid, activities, nursery, higher, internet, romantic, famrel, freetime, goout, Dalc, Walc, health, absences, G1, G2, G3]\n",
            "Index: []\n",
            "\n",
            "[0 rows x 33 columns]\n"
          ]
        }
      ]
    },
    {
      "cell_type": "code",
      "source": [
        "f_missed_10plus_classes = df[df['absences'] >= 10]\n",
        "\n",
        "\n",
        "total_students_missed_10plus_classes = len(df_missed_10plus_classes)\n",
        "\n",
        "total_students_missed_80plus_marks = df[df['G1'] >= 80]\n",
        "print(df_missed_10plus_classes)\n",
        "print(total_students_missed_80plus_marks )"
      ],
      "metadata": {
        "id": "SqpUes1xE3cW",
        "outputId": "ca20d1aa-e91f-4bc8-928b-87daab56f0d3",
        "colab": {
          "base_uri": "https://localhost:8080/"
        }
      },
      "execution_count": 6,
      "outputs": [
        {
          "output_type": "stream",
          "name": "stdout",
          "text": [
            "    school sex  age address famsize Pstatus  Medu  Fedu      Mjob      Fjob  \\\n",
            "2       GP   F   15       U     LE3       T     1     1   at_home     other   \n",
            "5       GP   M   16       U     LE3       T     4     3  services     other   \n",
            "18      GP   M   17       U     GT3       T     3     2  services  services   \n",
            "25      GP   F   16       U     GT3       T     2     2  services  services   \n",
            "29      GP   M   16       U     GT3       T     4     4   teacher   teacher   \n",
            "..     ...  ..  ...     ...     ...     ...   ...   ...       ...       ...   \n",
            "369     MS   F   18       R     GT3       T     4     4     other   teacher   \n",
            "373     MS   F   17       R     GT3       T     1     2     other     other   \n",
            "379     MS   F   17       R     GT3       T     3     1   at_home     other   \n",
            "384     MS   M   18       R     GT3       T     4     2     other     other   \n",
            "390     MS   M   20       U     LE3       A     2     2  services  services   \n",
            "\n",
            "     ... famrel freetime  goout  Dalc  Walc health absences  G1  G2  G3  \n",
            "2    ...      4        3      2     2     3      3       10   7   8  10  \n",
            "5    ...      5        4      2     1     2      5       10  15  15  15  \n",
            "18   ...      5        5      5     2     4      5       16   6   5   5  \n",
            "25   ...      1        2      2     1     3      5       14   6   9   8  \n",
            "29   ...      4        4      5     5     5      5       16  10  12  11  \n",
            "..   ...    ...      ...    ...   ...   ...    ...      ...  ..  ..  ..  \n",
            "369  ...      3        2      2     4     2      5       10  14  12  11  \n",
            "373  ...      3        5      5     1     3      1       14   6   5   5  \n",
            "379  ...      4        5      4     2     3      1       17  10  10  10  \n",
            "384  ...      5        4      3     4     3      3       14   6   5   5  \n",
            "390  ...      5        5      4     4     5      4       11   9   9   9  \n",
            "\n",
            "[83 rows x 33 columns]\n",
            "Empty DataFrame\n",
            "Columns: [school, sex, age, address, famsize, Pstatus, Medu, Fedu, Mjob, Fjob, reason, guardian, traveltime, studytime, failures, schoolsup, famsup, paid, activities, nursery, higher, internet, romantic, famrel, freetime, goout, Dalc, Walc, health, absences, G1, G2, G3]\n",
            "Index: []\n",
            "\n",
            "[0 rows x 33 columns]\n"
          ]
        }
      ]
    },
    {
      "cell_type": "code",
      "source": [],
      "metadata": {
        "id": "4wfNApHuE-CN"
      },
      "execution_count": null,
      "outputs": []
    }
  ]
}